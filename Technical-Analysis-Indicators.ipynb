{
 "cells": [
  {
   "cell_type": "markdown",
   "metadata": {},
   "source": [
    "# Technical-Analysis-Indicators"
   ]
  },
  {
   "cell_type": "markdown",
   "metadata": {},
   "source": [
    "Code from https://github.com/rebekah999/Technical-Analysis-Indicators repository by Rebekah Fowler"
   ]
  },
  {
   "cell_type": "markdown",
   "metadata": {},
   "source": [
    "Variable \"data\" is Five yrs of Daily historical Data from Yahoo Finance in CSV format\n",
    "data can be downloaded here:\n",
    "https://finance.yahoo.com/quote/AA/history?period1=1432080000&period2=1589932800&interval=1d&filter=history&frequency=1d"
   ]
  },
  {
   "cell_type": "code",
   "execution_count": 1,
   "metadata": {},
   "outputs": [],
   "source": [
    "import numpy as np \n",
    "import pandas as pd "
   ]
  },
  {
   "cell_type": "code",
   "execution_count": 2,
   "metadata": {},
   "outputs": [],
   "source": [
    "# File/Data\n",
    "def dataprep(file):\n",
    "    df = pd.read_csv(file)\n",
    "    df[\"Date\"] = pd.to_datetime(df[\"Date\"])\n",
    "    return df"
   ]
  },
  {
   "cell_type": "code",
   "execution_count": 3,
   "metadata": {},
   "outputs": [],
   "source": [
    "# macd Indicator\n",
    "def macd(df, macd1 = 26, macd2 = 12, macd3 = 9):\n",
    "    macd = pd.DataFrame()\n",
    "    df_mean = df.iloc[:, [1, 2, 3, 4]].mean(axis = 1)\n",
    "\n",
    "    macd1_ema = df_mean.ewm(span = macd1, adjust = False).mean()\n",
    "    macd2_ema = df_mean.ewm(span = macd2, adjust = False).mean()\n",
    "    macd['MACD Line'] = macd2_ema - macd1_ema\n",
    "    macd['Signal Line'] = macd[['MACD Line']].ewm(span = macd3, adjust = False).mean()\n",
    "    macd[\"Histogram\"] = macd['MACD Line'] - macd['Signal Line']\n",
    "    macd[\"Date\"] = df[\"Date\"]\n",
    "    return macd"
   ]
  },
  {
   "cell_type": "code",
   "execution_count": 4,
   "metadata": {},
   "outputs": [],
   "source": [
    "# bb indicator\n",
    "def bb(df, period = 20, std = 2):\n",
    "    \n",
    "    bb = pd.DataFrame()\n",
    "    df_add = df.loc[:, [\"Open\", \"High\", \"Low\", \"Close\"]].mean(axis = 1)\n",
    "    rolling_mean = df_add.rolling(window = period).mean()\n",
    "    rolling_std = df_add.rolling(window = period).std()\n",
    "    bb[\"Upper\"] = rolling_mean.add(rolling_std * std)\n",
    "    bb[\"Middle\"] = rolling_mean\n",
    "    bb[\"Lower\"] = rolling_mean.subtract(rolling_std * std)\n",
    "    bb[\"Date\"] = df[\"Date\"]\n",
    "    return bb"
   ]
  },
  {
   "cell_type": "code",
   "execution_count": 5,
   "metadata": {},
   "outputs": [],
   "source": [
    "# Heikin-Ashi indicator\n",
    "def ha(df):\n",
    "    ha = pd.DataFrame()\n",
    "\n",
    "    ha[\"Close\"] = (df[\"Open\"] + df[\"High\"] + df[\"Low\"] + df[\"Close\"])/ 4\n",
    "    ha[\"Open\"]  = ((df[\"Open\"] + df[\"Close\"])/ 2).shift(1)\n",
    "    ha[\"High\"] = df[[\"High\", \"Open\", \"Close\"]].max(axis = 1)\n",
    "    ha[\"Low\"] = df[[\"Low\", \"Open\", \"Close\"]].min(axis = 1)\n",
    "    ha[\"Date\"] = df[\"Date\"]\n",
    "    return ha"
   ]
  },
  {
   "cell_type": "code",
   "execution_count": 6,
   "metadata": {},
   "outputs": [],
   "source": [
    "data = \"AAPL5.csv\" # Five yrs of Daily historical Data downloaded from Yahoo Finance\n",
    "df = dataprep(data)"
   ]
  },
  {
   "cell_type": "code",
   "execution_count": 7,
   "metadata": {},
   "outputs": [
    {
     "data": {
      "text/html": [
       "<div>\n",
       "<style scoped>\n",
       "    .dataframe tbody tr th:only-of-type {\n",
       "        vertical-align: middle;\n",
       "    }\n",
       "\n",
       "    .dataframe tbody tr th {\n",
       "        vertical-align: top;\n",
       "    }\n",
       "\n",
       "    .dataframe thead th {\n",
       "        text-align: right;\n",
       "    }\n",
       "</style>\n",
       "<table border=\"1\" class=\"dataframe\">\n",
       "  <thead>\n",
       "    <tr style=\"text-align: right;\">\n",
       "      <th></th>\n",
       "      <th>MACD Line</th>\n",
       "      <th>Signal Line</th>\n",
       "      <th>Histogram</th>\n",
       "      <th>Date</th>\n",
       "    </tr>\n",
       "  </thead>\n",
       "  <tbody>\n",
       "    <tr>\n",
       "      <th>1255</th>\n",
       "      <td>5.856081</td>\n",
       "      <td>5.701581</td>\n",
       "      <td>0.154500</td>\n",
       "      <td>2018-08-27</td>\n",
       "    </tr>\n",
       "    <tr>\n",
       "      <th>1256</th>\n",
       "      <td>5.930311</td>\n",
       "      <td>5.747327</td>\n",
       "      <td>0.182984</td>\n",
       "      <td>2018-08-28</td>\n",
       "    </tr>\n",
       "    <tr>\n",
       "      <th>1257</th>\n",
       "      <td>6.077638</td>\n",
       "      <td>5.813389</td>\n",
       "      <td>0.264249</td>\n",
       "      <td>2018-08-29</td>\n",
       "    </tr>\n",
       "    <tr>\n",
       "      <th>1258</th>\n",
       "      <td>6.381269</td>\n",
       "      <td>5.926965</td>\n",
       "      <td>0.454304</td>\n",
       "      <td>2018-08-30</td>\n",
       "    </tr>\n",
       "    <tr>\n",
       "      <th>1259</th>\n",
       "      <td>6.747262</td>\n",
       "      <td>6.091025</td>\n",
       "      <td>0.656237</td>\n",
       "      <td>2018-08-31</td>\n",
       "    </tr>\n",
       "  </tbody>\n",
       "</table>\n",
       "</div>"
      ],
      "text/plain": [
       "      MACD Line  Signal Line  Histogram       Date\n",
       "1255   5.856081     5.701581   0.154500 2018-08-27\n",
       "1256   5.930311     5.747327   0.182984 2018-08-28\n",
       "1257   6.077638     5.813389   0.264249 2018-08-29\n",
       "1258   6.381269     5.926965   0.454304 2018-08-30\n",
       "1259   6.747262     6.091025   0.656237 2018-08-31"
      ]
     },
     "execution_count": 7,
     "metadata": {},
     "output_type": "execute_result"
    }
   ],
   "source": [
    "#Call macd function\n",
    "macd(df, macd1 = 26, macd2 = 12, macd3 = 9).tail()"
   ]
  },
  {
   "cell_type": "code",
   "execution_count": 8,
   "metadata": {},
   "outputs": [
    {
     "data": {
      "text/html": [
       "<div>\n",
       "<style scoped>\n",
       "    .dataframe tbody tr th:only-of-type {\n",
       "        vertical-align: middle;\n",
       "    }\n",
       "\n",
       "    .dataframe tbody tr th {\n",
       "        vertical-align: top;\n",
       "    }\n",
       "\n",
       "    .dataframe thead th {\n",
       "        text-align: right;\n",
       "    }\n",
       "</style>\n",
       "<table border=\"1\" class=\"dataframe\">\n",
       "  <thead>\n",
       "    <tr style=\"text-align: right;\">\n",
       "      <th></th>\n",
       "      <th>Upper</th>\n",
       "      <th>Middle</th>\n",
       "      <th>Lower</th>\n",
       "      <th>Date</th>\n",
       "    </tr>\n",
       "  </thead>\n",
       "  <tbody>\n",
       "    <tr>\n",
       "      <th>1255</th>\n",
       "      <td>222.801461</td>\n",
       "      <td>209.689501</td>\n",
       "      <td>196.577540</td>\n",
       "      <td>2018-08-27</td>\n",
       "    </tr>\n",
       "    <tr>\n",
       "      <th>1256</th>\n",
       "      <td>221.441798</td>\n",
       "      <td>211.140751</td>\n",
       "      <td>200.839704</td>\n",
       "      <td>2018-08-28</td>\n",
       "    </tr>\n",
       "    <tr>\n",
       "      <th>1257</th>\n",
       "      <td>222.086525</td>\n",
       "      <td>212.219876</td>\n",
       "      <td>202.353227</td>\n",
       "      <td>2018-08-29</td>\n",
       "    </tr>\n",
       "    <tr>\n",
       "      <th>1258</th>\n",
       "      <td>223.842698</td>\n",
       "      <td>213.247875</td>\n",
       "      <td>202.653053</td>\n",
       "      <td>2018-08-30</td>\n",
       "    </tr>\n",
       "    <tr>\n",
       "      <th>1259</th>\n",
       "      <td>226.158502</td>\n",
       "      <td>214.245000</td>\n",
       "      <td>202.331499</td>\n",
       "      <td>2018-08-31</td>\n",
       "    </tr>\n",
       "  </tbody>\n",
       "</table>\n",
       "</div>"
      ],
      "text/plain": [
       "           Upper      Middle       Lower       Date\n",
       "1255  222.801461  209.689501  196.577540 2018-08-27\n",
       "1256  221.441798  211.140751  200.839704 2018-08-28\n",
       "1257  222.086525  212.219876  202.353227 2018-08-29\n",
       "1258  223.842698  213.247875  202.653053 2018-08-30\n",
       "1259  226.158502  214.245000  202.331499 2018-08-31"
      ]
     },
     "execution_count": 8,
     "metadata": {},
     "output_type": "execute_result"
    }
   ],
   "source": [
    "bb(df, period = 20, std = 2).tail()"
   ]
  },
  {
   "cell_type": "code",
   "execution_count": 9,
   "metadata": {},
   "outputs": [
    {
     "data": {
      "text/html": [
       "<div>\n",
       "<style scoped>\n",
       "    .dataframe tbody tr th:only-of-type {\n",
       "        vertical-align: middle;\n",
       "    }\n",
       "\n",
       "    .dataframe tbody tr th {\n",
       "        vertical-align: top;\n",
       "    }\n",
       "\n",
       "    .dataframe thead th {\n",
       "        text-align: right;\n",
       "    }\n",
       "</style>\n",
       "<table border=\"1\" class=\"dataframe\">\n",
       "  <thead>\n",
       "    <tr style=\"text-align: right;\">\n",
       "      <th></th>\n",
       "      <th>Close</th>\n",
       "      <th>Open</th>\n",
       "      <th>High</th>\n",
       "      <th>Low</th>\n",
       "      <th>Date</th>\n",
       "    </tr>\n",
       "  </thead>\n",
       "  <tbody>\n",
       "    <tr>\n",
       "      <th>1255</th>\n",
       "      <td>217.540001</td>\n",
       "      <td>216.380005</td>\n",
       "      <td>218.740005</td>\n",
       "      <td>216.330002</td>\n",
       "      <td>2018-08-27</td>\n",
       "    </tr>\n",
       "    <tr>\n",
       "      <th>1256</th>\n",
       "      <td>219.542496</td>\n",
       "      <td>217.544998</td>\n",
       "      <td>220.539993</td>\n",
       "      <td>218.919998</td>\n",
       "      <td>2018-08-28</td>\n",
       "    </tr>\n",
       "    <tr>\n",
       "      <th>1257</th>\n",
       "      <td>221.507500</td>\n",
       "      <td>219.354996</td>\n",
       "      <td>223.490005</td>\n",
       "      <td>219.410004</td>\n",
       "      <td>2018-08-29</td>\n",
       "    </tr>\n",
       "    <tr>\n",
       "      <th>1258</th>\n",
       "      <td>224.734997</td>\n",
       "      <td>221.564995</td>\n",
       "      <td>228.259995</td>\n",
       "      <td>222.399994</td>\n",
       "      <td>2018-08-30</td>\n",
       "    </tr>\n",
       "    <tr>\n",
       "      <th>1259</th>\n",
       "      <td>227.252499</td>\n",
       "      <td>224.140000</td>\n",
       "      <td>228.869995</td>\n",
       "      <td>226.000000</td>\n",
       "      <td>2018-08-31</td>\n",
       "    </tr>\n",
       "  </tbody>\n",
       "</table>\n",
       "</div>"
      ],
      "text/plain": [
       "           Close        Open        High         Low       Date\n",
       "1255  217.540001  216.380005  218.740005  216.330002 2018-08-27\n",
       "1256  219.542496  217.544998  220.539993  218.919998 2018-08-28\n",
       "1257  221.507500  219.354996  223.490005  219.410004 2018-08-29\n",
       "1258  224.734997  221.564995  228.259995  222.399994 2018-08-30\n",
       "1259  227.252499  224.140000  228.869995  226.000000 2018-08-31"
      ]
     },
     "execution_count": 9,
     "metadata": {},
     "output_type": "execute_result"
    }
   ],
   "source": [
    "ha(df).tail()"
   ]
  }
 ],
 "metadata": {
  "kernelspec": {
   "display_name": "Python 3",
   "language": "python",
   "name": "python3"
  },
  "language_info": {
   "codemirror_mode": {
    "name": "ipython",
    "version": 3
   },
   "file_extension": ".py",
   "mimetype": "text/x-python",
   "name": "python",
   "nbconvert_exporter": "python",
   "pygments_lexer": "ipython3",
   "version": "3.6.5"
  }
 },
 "nbformat": 4,
 "nbformat_minor": 2
}
