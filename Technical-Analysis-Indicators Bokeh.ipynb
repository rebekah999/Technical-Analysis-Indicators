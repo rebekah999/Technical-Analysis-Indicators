{
 "cells": [
  {
   "cell_type": "markdown",
   "metadata": {},
   "source": [
    "# Technical-Analysis-Indicators Bokeh Charting"
   ]
  },
  {
   "cell_type": "markdown",
   "metadata": {},
   "source": [
    "Code from https://github.com/rebekah999/Technical-Analysis-Indicators repository by Rebekah Fowler"
   ]
  },
  {
   "cell_type": "markdown",
   "metadata": {},
   "source": [
    "Variable \"data\" is Five yrs of Daily historical Data from Yahoo Finance in CSV format data can be downloaded here: https://finance.yahoo.com/quote/AA/history?period1=1432080000&period2=1589932800&interval=1d&filter=history&frequency=1d"
   ]
  },
  {
   "cell_type": "markdown",
   "metadata": {},
   "source": [
    "Charting with Bokeh library https://docs.bokeh.org/en/latest/"
   ]
  },
  {
   "cell_type": "code",
   "execution_count": 1,
   "metadata": {},
   "outputs": [],
   "source": [
    "# basic imports for overall functionality\n",
    "import numpy as np \n",
    "import pandas as pd \n",
    "\n",
    "# imports for graphs and charts\n",
    "from bokeh.plotting import figure, show, output_file\n",
    "from bokeh.models import ColumnDataSource, HoverTool, CDSView, BooleanFilter\n",
    "\n",
    "#imports for layouts\n",
    "from bokeh.layouts import column, row, gridplot"
   ]
  },
  {
   "cell_type": "code",
   "execution_count": 2,
   "metadata": {},
   "outputs": [],
   "source": [
    "def dataprep(file, limit = 0):\n",
    "    df = pd.read_csv(file, parse_dates = True)\n",
    "    df[\"Date\"] = pd.to_datetime(df[\"Date\"])\n",
    "    if limit != 0:\n",
    "        return df.tail(limit)\n",
    "    else:\n",
    "        return df\n",
    "    \n",
    "def bb_source(df):\n",
    "    source = ColumnDataSource(bb_candle_plotprep(df))\n",
    "    return source\n",
    "\n",
    "hex_color_green = \"#38f93b\"\n",
    "hex_color_red = \"#f9434e\""
   ]
  },
  {
   "cell_type": "code",
   "execution_count": 3,
   "metadata": {},
   "outputs": [],
   "source": [
    "def def_ha(df):\n",
    "    ha = pd.DataFrame()\n",
    "\n",
    "    ha[\"Close\"] = (df[\"Open\"] + df[\"High\"] + df[\"Low\"] + df[\"Close\"])/ 4\n",
    "    ha[\"Open\"]  = ((df[\"Open\"] + df[\"Close\"])/ 2).shift(1)\n",
    "    ha[\"High\"] = df[[\"High\", \"Open\", \"Close\"]].max(axis = 1)\n",
    "    ha[\"Low\"] = df[[\"Low\", \"Open\", \"Close\"]].min(axis = 1)\n",
    "    ha[\"Date\"] = df[\"Date\"]\n",
    "    return ha"
   ]
  },
  {
   "cell_type": "code",
   "execution_count": 4,
   "metadata": {},
   "outputs": [],
   "source": [
    "def bb_candle_plotprep(df, period = 20, std = 2):\n",
    "    \n",
    "\n",
    "    bb = pd.DataFrame().reindex(df.index)\n",
    "    df_add = df.loc[:, [\"Open\", \"High\", \"Low\", \"Close\"]].mean(axis = 1)\n",
    "    rolling_mean = df_add.rolling(window = period).mean()\n",
    "    rolling_std = df_add.rolling(window = period).std()\n",
    "    bb[\"Upper\"] = rolling_mean.add(rolling_std * std)\n",
    "    bb[\"Middle\"] = rolling_mean\n",
    "    bb[\"Lower\"] = rolling_mean.subtract(rolling_std * std)\n",
    "\n",
    "    bb[\"Open\"] = df[\"Open\"].shift(1)\n",
    "    bb[\"High\"] = df[\"High\"].shift(1)\n",
    "    bb[\"Low\"] = df[\"Low\"].shift(1)\n",
    "    bb[\"Close\"] = df[\"Close\"].shift(1)\n",
    "    \n",
    "    bb[\"Date\"] = df[\"Date\"]\n",
    "    return bb"
   ]
  },
  {
   "cell_type": "code",
   "execution_count": 5,
   "metadata": {},
   "outputs": [],
   "source": [
    "def reg_ha_bb_candle_plot(file, w = 12*60*60*1000, of_title = \"AAPL.html\", f_title = \"AAPL\"):\n",
    "    prep = dataprep(file)\n",
    "    \n",
    "    df = bb_candle_plotprep(prep)\n",
    "    \n",
    "    ha = bb_candle_plotprep(def_ha(prep))\n",
    "    \n",
    "    source = ColumnDataSource(df)\n",
    "    source_ha = ColumnDataSource(ha)\n",
    "    \n",
    "    green = CDSView(source=source, filters=[BooleanFilter(df.Open < df.Close)])\n",
    "    red = CDSView(source=source, filters=[BooleanFilter(df.Open > df.Close)])\n",
    "\n",
    "\n",
    "    green_ha = CDSView(source=source_ha, filters=[BooleanFilter(ha.Open < ha.Close)])\n",
    "    red_ha = CDSView(source=source_ha, filters=[BooleanFilter(ha.Open > ha.Close)])\n",
    "    \n",
    "    hover = HoverTool(tooltips= [(\"Date\", \"@Date{%F}\"), (\"Open\", \"@Open\"), (\"High\", \"@High\"),\n",
    "                                 (\"Low\", \"@Low\"), (\"Close\", \"@Close\"), (\"Upper\", \"@Upper\"),\n",
    "                                     (\"Middle\", \"@Middle\"), (\"Lower\", \"@Lower\")],\n",
    "                                mode = \"vline\", formatters = {\"Date\": \"datetime\"},\n",
    "                     names = [\"foo\", \"boo\"])\n",
    "    \n",
    "    \n",
    "\n",
    "    \n",
    "    p1 = figure(title = f_title, x_axis_type = \"datetime\", x_axis_label = \"Date\",\n",
    "                y_axis_label = \"Price\",plot_width=750, tools = [hover,\"crosshair\",\"pan,box_zoom,wheel_zoom,save,reset,help\"])\n",
    "    p1.line(x = \"Date\", y = \"Upper\", source = source, color = \"black\")\n",
    "    p1.line(x = \"Date\", y = \"Middle\", source = source, color = \"black\")\n",
    "    p1.line(x = \"Date\", y = \"Lower\", source = source, color = \"black\")\n",
    "    \n",
    "   \n",
    "    p1.segment('Date', \"High\", \"Date\", \"Low\", color=\"black\", source = source)\n",
    "    p1.vbar(x = \"Date\", top = \"Close\", bottom = 'Open', width = w, fill_color = \"green\", source = source,\n",
    "            line_color = \"black\", view = green, name = \"foo\", hover_color = hex_color_green)\n",
    "    p1.vbar(\"Date\", w, \"Open\", 'Close', fill_color = \"red\", source = source,\n",
    "            line_color = \"black\", view = red, name = \"boo\", hover_color = hex_color_red)\n",
    "    \n",
    "    \n",
    "    \n",
    "    p2 = figure(title = f_title + \" Heikin-Ashi\", x_axis_type = \"datetime\", x_axis_label = \"Date\",\n",
    "                y_axis_label = \"Price\", plot_width=750, tools = [hover,\"crosshair\",\"pan,box_zoom,wheel_zoom,save,reset,help\"])\n",
    "    p2.line(x = \"Date\", y = \"Upper\", source = source_ha, color = \"black\")\n",
    "    p2.line(x = \"Date\", y = \"Middle\", source = source_ha, color = \"black\")\n",
    "    p2.line(x = \"Date\", y = \"Lower\", source = source_ha, color = \"black\")\n",
    "    \n",
    "   \n",
    "    p2.segment('Date', \"High\", \"Date\", \"Low\", color=\"black\", source = source_ha)\n",
    "    p2.vbar(x = \"Date\", top = \"Close\", bottom = 'Open', width = w, fill_color =  \"green\", source = source_ha,\n",
    "             line_color = \"black\",view = green_ha, name = \"foo\", hover_color = hex_color_green)\n",
    "    p2.vbar(\"Date\", w, \"Open\", 'Close', fill_color = \"red\", source = source_ha,\n",
    "            line_color = \"black\", view = red_ha, name = \"boo\", hover_color = hex_color_red)\n",
    "    \n",
    "    p1.x_range = p2.x_range\n",
    "    p1.y_range = p2.y_range\n",
    "    \n",
    "    \"\"\"hover_color = hex_color_green\n",
    "    hover_color = hex_color_red\"\"\"\n",
    "    \n",
    "    return p1, p2"
   ]
  },
  {
   "cell_type": "code",
   "execution_count": 6,
   "metadata": {},
   "outputs": [],
   "source": [
    "def aroon(df, period = 6):\n",
    "    aroon = pd.DataFrame().reindex(df.index)\n",
    "    #aroon.index = df.index\n",
    "    period = 6\n",
    "    h_n_day = df[\"High\"].rolling(period, min_periods = period).apply(np.argmax, raw = True)\n",
    "    l_n_day = df[\"Low\"].rolling(period, min_periods = period).apply(np.argmin, raw = True)\n",
    "    aroon[\"Up\"] = ((period - h_n_day)/ period) * 100\n",
    "    aroon[\"Down\"] = ((period - l_n_day)/ period) * 100\n",
    "    aroon[\"Date\"] = df[\"Date\"]\n",
    "    return aroon"
   ]
  },
  {
   "cell_type": "code",
   "execution_count": 7,
   "metadata": {},
   "outputs": [],
   "source": [
    "def aroon_plot(file, period = 6):\n",
    "    prep = dataprep(file)\n",
    "    \n",
    "    df = aroon(prep, period)\n",
    "    ha = aroon(def_ha(prep), period)\n",
    "    \n",
    "    source = ColumnDataSource(df)\n",
    "    source_ha = ColumnDataSource(ha)\n",
    "    \n",
    "    hover = HoverTool(tooltips = [(\"Date\", \"@Date{%F}\"), (\"Up\", \"@Up\"), (\"Down\", \"@Down\")], formatters = {\"Date\": \"datetime\"}, mode = \"vline\", names = [\"foo\"])\n",
    "    \n",
    "    p1 = figure(x_axis_type = \"datetime\", plot_height = 120 , plot_width = 750,\n",
    "                tools = [hover,\"crosshair\",\"pan,box_zoom,wheel_zoom,save,reset,help\"])\n",
    "    p1.line(y = \"Up\", x = \"Date\", color = \"green\", source = source, name = \"foo\")\n",
    "    p1.line(y = \"Down\", x = \"Date\", color = \"red\", source = source)\n",
    "    \n",
    "    \n",
    "    p2 = figure(x_axis_type = \"datetime\", plot_height = 120 , plot_width = 750,\n",
    "               tools = [hover,\"crosshair\",\"pan,box_zoom,wheel_zoom,save,reset,help\"])\n",
    "    p2.line(y = \"Up\", x = \"Date\", color = \"green\", source = source_ha, name = \"foo\")\n",
    "    p2.line(y = \"Down\", x = \"Date\", color = \"red\", source = source_ha)\n",
    "\n",
    "    \n",
    "    return p1, p2"
   ]
  },
  {
   "cell_type": "code",
   "execution_count": 8,
   "metadata": {},
   "outputs": [],
   "source": [
    "def macd(df, macd1 = 26, macd2 = 12, macd3 = 9):\n",
    "    macd = pd.DataFrame().reindex(df.index)\n",
    "    df_mean = df.iloc[:, [1, 2, 3, 4]].mean(axis = 1)\n",
    "    #macd1, macd2, macd3 = 26, 12, 9\n",
    "\n",
    "    macd1_ema = df_mean.ewm(span = macd1, adjust = False).mean()\n",
    "    macd2_ema = df_mean.ewm(span = macd2, adjust = False).mean()\n",
    "    macd['MACD Line'] = macd2_ema - macd1_ema\n",
    "    macd['Signal Line'] = macd[['MACD Line']].ewm(span = macd3, adjust = False).mean()\n",
    "    macd[\"Histogram\"] = macd['MACD Line'] - macd['Signal Line']\n",
    "    macd[\"Date\"] = df[\"Date\"]\n",
    "    return macd"
   ]
  },
  {
   "cell_type": "code",
   "execution_count": 9,
   "metadata": {},
   "outputs": [],
   "source": [
    "def overlap_macd_plot(file, w = 12*60*60*1000):\n",
    "    prep = dataprep(file)\n",
    "    df = macd(prep)\n",
    "    ha = macd(def_ha(prep))\n",
    "    \n",
    "    source = ColumnDataSource(df)\n",
    "    source_ha = ColumnDataSource(ha)\n",
    "    \n",
    "    hover = HoverTool(tooltips = [(\"Date\", \"@Date{%F}\"), (\"MACD Line\", \"@{MACD Line}\"),\n",
    "                                  (\"Signal Line\", \"@{Signal Line}\"), (\"Histogram\", \"@Histogram\")],\n",
    "                      formatters = {\"Date\": \"datetime\"}, names = [\"foo\"],\n",
    "                     mode = \"vline\")\n",
    "    \n",
    "    p1 = figure(x_axis_type = \"datetime\", tools = [hover,\"crosshair\",\"pan,box_zoom,wheel_zoom,save,reset,help\"],\n",
    "               plot_height = 100, plot_width = 750)\n",
    "    \n",
    "    p1.line(x = 'Date', y = \"MACD Line\", color = \"black\", source = source, name = \"foo\")\n",
    "    p1.line(x = 'Date', y = \"Signal Line\", color = \"red\", source = source)\n",
    "    p1.vbar(x = \"Date\", top = \"Histogram\", bottom = 0, width = w, color = \"black\", alpha = .2, source = source)\n",
    "\n",
    "    \n",
    "    p2 = figure(x_axis_type = \"datetime\", tools = [hover,\"crosshair\",\"pan,box_zoom,wheel_zoom,save,reset,help\"],\n",
    "               plot_height = 100, plot_width = 750)\n",
    "    \n",
    "    p2.line(x = 'Date', y = \"MACD Line\", color = \"black\", source = source_ha, name = \"foo\")\n",
    "    p2.line(x = 'Date', y = \"Signal Line\", color = \"red\", source = source_ha)\n",
    "    p2.vbar(x = \"Date\", top = \"Histogram\", bottom = 0, width = w, color = \"black\", alpha = .2, source = source_ha)\n",
    "\n",
    "    \n",
    "    p1.x_range = p2.x_range\n",
    "    p1.y_range = p2.y_range\n",
    "    \n",
    "    return p1, p2  "
   ]
  },
  {
   "cell_type": "code",
   "execution_count": 10,
   "metadata": {},
   "outputs": [],
   "source": [
    "data = \"AAPL5.csv\" # Five yrs of Daily historical Data downloaded from Yahoo Finance\n",
    "r, ha = reg_ha_bb_candle_plot(data)\n",
    "r1, r2 = aroon_plot(data)\n",
    "m1, m2 = overlap_macd_plot(data)\n",
    "r.x_range = ha.x_range = r1.x_range = r2.x_range = m1.x_range = m2.x_range\n",
    "save_layout = gridplot([[r, ha], [r1, r2], [m1, m2]])\n",
    "show(save_layout) #Will open chart in a new window"
   ]
  },
  {
   "cell_type": "code",
   "execution_count": null,
   "metadata": {},
   "outputs": [],
   "source": []
  }
 ],
 "metadata": {
  "kernelspec": {
   "display_name": "Python 3",
   "language": "python",
   "name": "python3"
  },
  "language_info": {
   "codemirror_mode": {
    "name": "ipython",
    "version": 3
   },
   "file_extension": ".py",
   "mimetype": "text/x-python",
   "name": "python",
   "nbconvert_exporter": "python",
   "pygments_lexer": "ipython3",
   "version": "3.6.5"
  }
 },
 "nbformat": 4,
 "nbformat_minor": 2
}
